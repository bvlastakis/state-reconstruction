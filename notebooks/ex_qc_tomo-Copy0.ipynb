{
 "metadata": {
  "name": "",
  "signature": "sha256:cab1a2ac273a9a1baa23db5182dea272310a635cc0dbd3b8e9f874a3cca0e885"
 },
 "nbformat": 3,
 "nbformat_minor": 0,
 "worksheets": [
  {
   "cells": [
    {
     "cell_type": "code",
     "collapsed": false,
     "input": [
      "%matplotlib osx\n",
      "\n",
      "import numpy as np\n",
      "import qutip as qp\n",
      "\n",
      "import matplotlib.pyplot as plt\n",
      "\n",
      "from collections import defaultdict\n",
      "from reconstruction.extensions import *"
     ],
     "language": "python",
     "metadata": {},
     "outputs": [],
     "prompt_number": 1
    },
    {
     "cell_type": "code",
     "collapsed": false,
     "input": [
      "folder = 'data/data_full/'\n",
      "\n",
      "#q_ops = { 'I':qp.identity(2), 'X':qp.sigmax(), 'Y':-qp.sigmay(), 'Z':qp.sigmaz() }\n",
      "file_list = { 'I':folder+'Id.txt', 'X':folder+'X_.txt', 'Y':folder+'Y_.txt', 'Z':folder+'Z_.txt' }\n",
      "\n",
      "exp = Bell_Cat(dispAmp = np.sqrt(3))\n",
      "\n",
      "exp.importMsmts(file_list)\n",
      "#exp.addNoiseData(0.05)\n",
      "    "
     ],
     "language": "python",
     "metadata": {},
     "outputs": [
      {
       "ename": "IOError",
       "evalue": "File data/data_full/Id.txt does not exist",
       "output_type": "pyerr",
       "traceback": [
        "\u001b[0;31m---------------------------------------------------------------------------\u001b[0m\n\u001b[0;31mIOError\u001b[0m                                   Traceback (most recent call last)",
        "\u001b[0;32m<ipython-input-12-0651c56b64c6>\u001b[0m in \u001b[0;36m<module>\u001b[0;34m()\u001b[0m\n\u001b[1;32m      6\u001b[0m \u001b[0mexp\u001b[0m \u001b[0;34m=\u001b[0m \u001b[0mBell_Cat\u001b[0m\u001b[0;34m(\u001b[0m\u001b[0mdispAmp\u001b[0m \u001b[0;34m=\u001b[0m \u001b[0mnp\u001b[0m\u001b[0;34m.\u001b[0m\u001b[0msqrt\u001b[0m\u001b[0;34m(\u001b[0m\u001b[0;36m3\u001b[0m\u001b[0;34m)\u001b[0m\u001b[0;34m)\u001b[0m\u001b[0;34m\u001b[0m\u001b[0m\n\u001b[1;32m      7\u001b[0m \u001b[0;34m\u001b[0m\u001b[0m\n\u001b[0;32m----> 8\u001b[0;31m \u001b[0mexp\u001b[0m\u001b[0;34m.\u001b[0m\u001b[0mimportMsmts\u001b[0m\u001b[0;34m(\u001b[0m\u001b[0mfile_list\u001b[0m\u001b[0;34m)\u001b[0m\u001b[0;34m\u001b[0m\u001b[0m\n\u001b[0m\u001b[1;32m      9\u001b[0m \u001b[0;31m#exp.addNoiseData(0.05)\u001b[0m\u001b[0;34m\u001b[0m\u001b[0;34m\u001b[0m\u001b[0m\n\u001b[1;32m     10\u001b[0m \u001b[0;34m\u001b[0m\u001b[0m\n",
        "\u001b[0;32m/Users/brianvlastakis/Documents/_Projects/reconstruction/reconstruction/datas.py\u001b[0m in \u001b[0;36mimportMsmts\u001b[0;34m(self, files)\u001b[0m\n\u001b[1;32m     37\u001b[0m         \u001b[0;32mfor\u001b[0m \u001b[0mkey\u001b[0m\u001b[0;34m,\u001b[0m \u001b[0mname\u001b[0m \u001b[0;32min\u001b[0m \u001b[0mfiles\u001b[0m\u001b[0;34m.\u001b[0m\u001b[0miteritems\u001b[0m\u001b[0;34m(\u001b[0m\u001b[0;34m)\u001b[0m\u001b[0;34m:\u001b[0m\u001b[0;34m\u001b[0m\u001b[0m\n\u001b[1;32m     38\u001b[0m             \u001b[0mmeasurement\u001b[0m \u001b[0;34m=\u001b[0m \u001b[0mCV_QCWigner\u001b[0m\u001b[0;34m(\u001b[0m\u001b[0mself\u001b[0m\u001b[0;34m.\u001b[0m\u001b[0mq_ops\u001b[0m\u001b[0;34m[\u001b[0m\u001b[0mkey\u001b[0m\u001b[0;34m]\u001b[0m\u001b[0;34m)\u001b[0m\u001b[0;34m\u001b[0m\u001b[0m\n\u001b[0;32m---> 39\u001b[0;31m             \u001b[0mmeasurement\u001b[0m\u001b[0;34m.\u001b[0m\u001b[0mimportData\u001b[0m\u001b[0;34m(\u001b[0m\u001b[0mname\u001b[0m\u001b[0;34m)\u001b[0m\u001b[0;34m\u001b[0m\u001b[0m\n\u001b[0m\u001b[1;32m     40\u001b[0m \u001b[0;34m\u001b[0m\u001b[0m\n\u001b[1;32m     41\u001b[0m             \u001b[0mtemp\u001b[0m \u001b[0;34m=\u001b[0m \u001b[0mmeasurement\u001b[0m\u001b[0;34m.\u001b[0m\u001b[0mdata_to_fit\u001b[0m\u001b[0;34m\u001b[0m\u001b[0m\n",
        "\u001b[0;32m/Users/brianvlastakis/Documents/_Projects/reconstruction/reconstruction/data.pyc\u001b[0m in \u001b[0;36mimportData\u001b[0;34m(self, file_path)\u001b[0m\n\u001b[1;32m     48\u001b[0m         \u001b[0mself\u001b[0m\u001b[0;34m.\u001b[0m\u001b[0mfile_name\u001b[0m \u001b[0;34m=\u001b[0m \u001b[0mfile_name\u001b[0m\u001b[0;34m\u001b[0m\u001b[0m\n\u001b[1;32m     49\u001b[0m         \u001b[0;31m#read file as float\u001b[0m\u001b[0;34m\u001b[0m\u001b[0;34m\u001b[0m\u001b[0m\n\u001b[0;32m---> 50\u001b[0;31m         \u001b[0mdata_frame\u001b[0m \u001b[0;34m=\u001b[0m \u001b[0mpandas\u001b[0m\u001b[0;34m.\u001b[0m\u001b[0mread_csv\u001b[0m\u001b[0;34m(\u001b[0m\u001b[0mfile_path\u001b[0m\u001b[0;34m,\u001b[0m \u001b[0mdelimiter\u001b[0m \u001b[0;34m=\u001b[0m \u001b[0;34m'\\t'\u001b[0m\u001b[0;34m,\u001b[0m \u001b[0mindex_col\u001b[0m\u001b[0;34m=\u001b[0m\u001b[0;36m0\u001b[0m\u001b[0;34m)\u001b[0m\u001b[0;34m\u001b[0m\u001b[0m\n\u001b[0m\u001b[1;32m     51\u001b[0m         \u001b[0mdata_frame\u001b[0m\u001b[0;34m.\u001b[0m\u001b[0mcolumns\u001b[0m \u001b[0;34m=\u001b[0m \u001b[0mdata_frame\u001b[0m\u001b[0;34m.\u001b[0m\u001b[0mcolumns\u001b[0m\u001b[0;34m.\u001b[0m\u001b[0mastype\u001b[0m\u001b[0;34m(\u001b[0m\u001b[0mnp\u001b[0m\u001b[0;34m.\u001b[0m\u001b[0mfloat64\u001b[0m\u001b[0;34m)\u001b[0m\u001b[0;34m\u001b[0m\u001b[0m\n\u001b[1;32m     52\u001b[0m \u001b[0;34m\u001b[0m\u001b[0m\n",
        "\u001b[0;32m/usr/local/lib/python2.7/site-packages/pandas/io/parsers.pyc\u001b[0m in \u001b[0;36mparser_f\u001b[0;34m(filepath_or_buffer, sep, dialect, compression, doublequote, escapechar, quotechar, quoting, skipinitialspace, lineterminator, header, index_col, names, prefix, skiprows, skipfooter, skip_footer, na_values, na_fvalues, true_values, false_values, delimiter, converters, dtype, usecols, engine, delim_whitespace, as_recarray, na_filter, compact_ints, use_unsigned, low_memory, buffer_lines, warn_bad_lines, error_bad_lines, keep_default_na, thousands, comment, decimal, parse_dates, keep_date_col, dayfirst, date_parser, memory_map, nrows, iterator, chunksize, verbose, encoding, squeeze, mangle_dupe_cols, tupleize_cols, infer_datetime_format)\u001b[0m\n\u001b[1;32m    450\u001b[0m                     infer_datetime_format=infer_datetime_format)\n\u001b[1;32m    451\u001b[0m \u001b[0;34m\u001b[0m\u001b[0m\n\u001b[0;32m--> 452\u001b[0;31m         \u001b[0;32mreturn\u001b[0m \u001b[0m_read\u001b[0m\u001b[0;34m(\u001b[0m\u001b[0mfilepath_or_buffer\u001b[0m\u001b[0;34m,\u001b[0m \u001b[0mkwds\u001b[0m\u001b[0;34m)\u001b[0m\u001b[0;34m\u001b[0m\u001b[0m\n\u001b[0m\u001b[1;32m    453\u001b[0m \u001b[0;34m\u001b[0m\u001b[0m\n\u001b[1;32m    454\u001b[0m     \u001b[0mparser_f\u001b[0m\u001b[0;34m.\u001b[0m\u001b[0m__name__\u001b[0m \u001b[0;34m=\u001b[0m \u001b[0mname\u001b[0m\u001b[0;34m\u001b[0m\u001b[0m\n",
        "\u001b[0;32m/usr/local/lib/python2.7/site-packages/pandas/io/parsers.pyc\u001b[0m in \u001b[0;36m_read\u001b[0;34m(filepath_or_buffer, kwds)\u001b[0m\n\u001b[1;32m    232\u001b[0m \u001b[0;34m\u001b[0m\u001b[0m\n\u001b[1;32m    233\u001b[0m     \u001b[0;31m# Create the parser.\u001b[0m\u001b[0;34m\u001b[0m\u001b[0;34m\u001b[0m\u001b[0m\n\u001b[0;32m--> 234\u001b[0;31m     \u001b[0mparser\u001b[0m \u001b[0;34m=\u001b[0m \u001b[0mTextFileReader\u001b[0m\u001b[0;34m(\u001b[0m\u001b[0mfilepath_or_buffer\u001b[0m\u001b[0;34m,\u001b[0m \u001b[0;34m**\u001b[0m\u001b[0mkwds\u001b[0m\u001b[0;34m)\u001b[0m\u001b[0;34m\u001b[0m\u001b[0m\n\u001b[0m\u001b[1;32m    235\u001b[0m \u001b[0;34m\u001b[0m\u001b[0m\n\u001b[1;32m    236\u001b[0m     \u001b[0;32mif\u001b[0m \u001b[0;34m(\u001b[0m\u001b[0mnrows\u001b[0m \u001b[0;32mis\u001b[0m \u001b[0;32mnot\u001b[0m \u001b[0mNone\u001b[0m\u001b[0;34m)\u001b[0m \u001b[0;32mand\u001b[0m \u001b[0;34m(\u001b[0m\u001b[0mchunksize\u001b[0m \u001b[0;32mis\u001b[0m \u001b[0;32mnot\u001b[0m \u001b[0mNone\u001b[0m\u001b[0;34m)\u001b[0m\u001b[0;34m:\u001b[0m\u001b[0;34m\u001b[0m\u001b[0m\n",
        "\u001b[0;32m/usr/local/lib/python2.7/site-packages/pandas/io/parsers.pyc\u001b[0m in \u001b[0;36m__init__\u001b[0;34m(self, f, engine, **kwds)\u001b[0m\n\u001b[1;32m    540\u001b[0m             \u001b[0mself\u001b[0m\u001b[0;34m.\u001b[0m\u001b[0moptions\u001b[0m\u001b[0;34m[\u001b[0m\u001b[0;34m'has_index_names'\u001b[0m\u001b[0;34m]\u001b[0m \u001b[0;34m=\u001b[0m \u001b[0mkwds\u001b[0m\u001b[0;34m[\u001b[0m\u001b[0;34m'has_index_names'\u001b[0m\u001b[0;34m]\u001b[0m\u001b[0;34m\u001b[0m\u001b[0m\n\u001b[1;32m    541\u001b[0m \u001b[0;34m\u001b[0m\u001b[0m\n\u001b[0;32m--> 542\u001b[0;31m         \u001b[0mself\u001b[0m\u001b[0;34m.\u001b[0m\u001b[0m_make_engine\u001b[0m\u001b[0;34m(\u001b[0m\u001b[0mself\u001b[0m\u001b[0;34m.\u001b[0m\u001b[0mengine\u001b[0m\u001b[0;34m)\u001b[0m\u001b[0;34m\u001b[0m\u001b[0m\n\u001b[0m\u001b[1;32m    543\u001b[0m \u001b[0;34m\u001b[0m\u001b[0m\n\u001b[1;32m    544\u001b[0m     \u001b[0;32mdef\u001b[0m \u001b[0m_get_options_with_defaults\u001b[0m\u001b[0;34m(\u001b[0m\u001b[0mself\u001b[0m\u001b[0;34m,\u001b[0m \u001b[0mengine\u001b[0m\u001b[0;34m)\u001b[0m\u001b[0;34m:\u001b[0m\u001b[0;34m\u001b[0m\u001b[0m\n",
        "\u001b[0;32m/usr/local/lib/python2.7/site-packages/pandas/io/parsers.pyc\u001b[0m in \u001b[0;36m_make_engine\u001b[0;34m(self, engine)\u001b[0m\n\u001b[1;32m    677\u001b[0m     \u001b[0;32mdef\u001b[0m \u001b[0m_make_engine\u001b[0m\u001b[0;34m(\u001b[0m\u001b[0mself\u001b[0m\u001b[0;34m,\u001b[0m \u001b[0mengine\u001b[0m\u001b[0;34m=\u001b[0m\u001b[0;34m'c'\u001b[0m\u001b[0;34m)\u001b[0m\u001b[0;34m:\u001b[0m\u001b[0;34m\u001b[0m\u001b[0m\n\u001b[1;32m    678\u001b[0m         \u001b[0;32mif\u001b[0m \u001b[0mengine\u001b[0m \u001b[0;34m==\u001b[0m \u001b[0;34m'c'\u001b[0m\u001b[0;34m:\u001b[0m\u001b[0;34m\u001b[0m\u001b[0m\n\u001b[0;32m--> 679\u001b[0;31m             \u001b[0mself\u001b[0m\u001b[0;34m.\u001b[0m\u001b[0m_engine\u001b[0m \u001b[0;34m=\u001b[0m \u001b[0mCParserWrapper\u001b[0m\u001b[0;34m(\u001b[0m\u001b[0mself\u001b[0m\u001b[0;34m.\u001b[0m\u001b[0mf\u001b[0m\u001b[0;34m,\u001b[0m \u001b[0;34m**\u001b[0m\u001b[0mself\u001b[0m\u001b[0;34m.\u001b[0m\u001b[0moptions\u001b[0m\u001b[0;34m)\u001b[0m\u001b[0;34m\u001b[0m\u001b[0m\n\u001b[0m\u001b[1;32m    680\u001b[0m         \u001b[0;32melse\u001b[0m\u001b[0;34m:\u001b[0m\u001b[0;34m\u001b[0m\u001b[0m\n\u001b[1;32m    681\u001b[0m             \u001b[0;32mif\u001b[0m \u001b[0mengine\u001b[0m \u001b[0;34m==\u001b[0m \u001b[0;34m'python'\u001b[0m\u001b[0;34m:\u001b[0m\u001b[0;34m\u001b[0m\u001b[0m\n",
        "\u001b[0;32m/usr/local/lib/python2.7/site-packages/pandas/io/parsers.pyc\u001b[0m in \u001b[0;36m__init__\u001b[0;34m(self, src, **kwds)\u001b[0m\n\u001b[1;32m   1039\u001b[0m         \u001b[0mkwds\u001b[0m\u001b[0;34m[\u001b[0m\u001b[0;34m'allow_leading_cols'\u001b[0m\u001b[0;34m]\u001b[0m \u001b[0;34m=\u001b[0m \u001b[0mself\u001b[0m\u001b[0;34m.\u001b[0m\u001b[0mindex_col\u001b[0m \u001b[0;32mis\u001b[0m \u001b[0;32mnot\u001b[0m \u001b[0mFalse\u001b[0m\u001b[0;34m\u001b[0m\u001b[0m\n\u001b[1;32m   1040\u001b[0m \u001b[0;34m\u001b[0m\u001b[0m\n\u001b[0;32m-> 1041\u001b[0;31m         \u001b[0mself\u001b[0m\u001b[0;34m.\u001b[0m\u001b[0m_reader\u001b[0m \u001b[0;34m=\u001b[0m \u001b[0m_parser\u001b[0m\u001b[0;34m.\u001b[0m\u001b[0mTextReader\u001b[0m\u001b[0;34m(\u001b[0m\u001b[0msrc\u001b[0m\u001b[0;34m,\u001b[0m \u001b[0;34m**\u001b[0m\u001b[0mkwds\u001b[0m\u001b[0;34m)\u001b[0m\u001b[0;34m\u001b[0m\u001b[0m\n\u001b[0m\u001b[1;32m   1042\u001b[0m \u001b[0;34m\u001b[0m\u001b[0m\n\u001b[1;32m   1043\u001b[0m         \u001b[0;31m# XXX\u001b[0m\u001b[0;34m\u001b[0m\u001b[0;34m\u001b[0m\u001b[0m\n",
        "\u001b[0;32m/usr/local/lib/python2.7/site-packages/pandas/parser.so\u001b[0m in \u001b[0;36mpandas.parser.TextReader.__cinit__ (pandas/parser.c:3218)\u001b[0;34m()\u001b[0m\n",
        "\u001b[0;32m/usr/local/lib/python2.7/site-packages/pandas/parser.so\u001b[0m in \u001b[0;36mpandas.parser.TextReader._setup_parser_source (pandas/parser.c:5594)\u001b[0;34m()\u001b[0m\n",
        "\u001b[0;31mIOError\u001b[0m: File data/data_full/Id.txt does not exist"
       ]
      }
     ],
     "prompt_number": 12
    },
    {
     "cell_type": "code",
     "collapsed": false,
     "input": [
      "#rho = exp.measurements['I'].rho\n",
      "for key in exp.q_ops.iterkeys():\n",
      "    print key\n",
      "    exp.msmts[key].plotData()"
     ],
     "language": "python",
     "metadata": {},
     "outputs": [
      {
       "output_type": "stream",
       "stream": "stdout",
       "text": [
        "I\n",
        "X"
       ]
      },
      {
       "output_type": "stream",
       "stream": "stdout",
       "text": [
        "\n",
        "Z"
       ]
      },
      {
       "output_type": "stream",
       "stream": "stdout",
       "text": [
        "\n",
        "Y"
       ]
      },
      {
       "output_type": "stream",
       "stream": "stdout",
       "text": [
        "\n"
       ]
      }
     ],
     "prompt_number": 13
    },
    {
     "cell_type": "code",
     "collapsed": false,
     "input": [
      "exp.calcDesignMatrix(10)\n"
     ],
     "language": "python",
     "metadata": {},
     "outputs": [],
     "prompt_number": 4
    },
    {
     "cell_type": "code",
     "collapsed": false,
     "input": [
      "reg = exp.regression(method = 'speedy')"
     ],
     "language": "python",
     "metadata": {},
     "outputs": [],
     "prompt_number": 5
    },
    {
     "cell_type": "code",
     "collapsed": false,
     "input": [
      "# qp.hinton(reg)\n",
      "import scipy.linalg\n",
      "\n",
      "evalue, evector = scipy.linalg.eig(reg)\n",
      "print evalue, evector"
     ],
     "language": "python",
     "metadata": {},
     "outputs": [
      {
       "output_type": "stream",
       "stream": "stdout",
       "text": [
        "[  7.48287620e-01 -2.97445245e-18j   8.33830678e-02 -4.53118234e-18j\n",
        "   1.21851410e-02 +4.00711848e-18j  -8.92174910e-03 +4.19959942e-18j\n",
        "  -7.68153301e-03 -5.77646025e-18j   9.00001168e-03 +2.71488733e-17j\n",
        "  -6.87830374e-03 -8.80979200e-18j   7.48740535e-03 +4.51217133e-18j\n",
        "  -4.81254654e-03 +1.32228729e-18j  -3.78800678e-03 -7.50584302e-19j\n",
        "  -3.25415071e-03 +2.12833309e-18j   6.13366554e-03 -1.03736985e-17j\n",
        "  -1.76378987e-03 +9.50380575e-18j  -6.87279628e-04 +5.34964100e-19j\n",
        "   8.61707327e-05 -6.30609338e-18j   1.32677274e-03 -1.07172917e-17j\n",
        "   5.22141968e-03 +8.83313272e-18j   2.91370782e-03 -1.05614195e-17j\n",
        "   3.47208603e-03 +6.84908319e-18j   4.50755256e-03 -4.47357219e-18j] [[ 0.16602895+0.00603973j -0.16344163+0.05597815j -0.07049651+0.18554176j\n",
        "   0.04272329-0.18988459j  0.06011127-0.23789623j  0.19569938+0.00545257j\n",
        "   0.05107565-0.0017101j   0.02784948+0.05174107j  0.20294162-0.15694609j\n",
        "   0.01892925+0.06136116j  0.20780685+0.20884101j  0.44447629+0.j\n",
        "  -0.09154404+0.02653218j -0.09209862+0.11509735j -0.15866952-0.14985764j\n",
        "  -0.20046326+0.28574696j -0.03188197-0.27929251j -0.17698446-0.19916379j\n",
        "  -0.21081097+0.08020031j -0.01560969+0.0704564j ]\n",
        " [ 0.28560615-0.00053426j -0.26721130+0.08917678j  0.27092298+0.05813227j\n",
        "   0.02981200-0.09861717j -0.28970384+0.01141333j -0.07420081-0.31693953j\n",
        "   0.05986661-0.04025982j -0.19419160+0.11400691j -0.12544903+0.15508229j\n",
        "   0.08606493-0.02622243j  0.04867626+0.10075686j  0.05572206+0.33880562j\n",
        "   0.14598524+0.09059889j  0.15209917-0.08149349j  0.07680462-0.12405496j\n",
        "   0.23717808+0.07810176j  0.19583377+0.08410999j  0.11605799-0.07030894j\n",
        "  -0.12463618+0.02993596j  0.21382320-0.24192907j]\n",
        " [ 0.34622953+0.j         -0.35506293+0.03406962j -0.07658181+0.14491665j\n",
        "   0.08395756+0.09577693j -0.14938110+0.30910579j  0.45694814+0.j\n",
        "   0.04778089+0.10977687j  0.17482343+0.07971693j -0.15766171+0.01285569j\n",
        "  -0.06041065-0.08436586j  0.07561075-0.05370973j -0.02274525-0.22541666j\n",
        "  -0.01111825+0.00906703j -0.04519904-0.07537053j -0.00588145+0.01761606j\n",
        "  -0.04930426-0.19816296j  0.12413127+0.08352066j  0.04581316-0.11077683j\n",
        "   0.23830080-0.04676737j -0.28241507+0.10348811j]\n",
        " [ 0.34595109-0.00992138j -0.28961564+0.09902859j  0.32905525+0.j\n",
        "   0.10246387+0.2258774j   0.26067506-0.02162354j -0.19263565+0.33610081j\n",
        "  -0.20940254-0.10037392j -0.26025331-0.01770648j  0.11296373-0.20403981j\n",
        "   0.03798367+0.0632798j  -0.03315601-0.07833545j -0.21222889-0.15061069j\n",
        "   0.06689858+0.09638867j -0.22604938-0.02074101j -0.12914404+0.04631986j\n",
        "  -0.00678256-0.08803286j -0.09015918-0.00786628j  0.04699666-0.03414167j\n",
        "  -0.16014761+0.01841577j  0.10753254+0.02117595j]\n",
        " [ 0.30358948+0.0073017j  -0.26773341-0.00309367j -0.12003940+0.01055571j\n",
        "   0.03162699-0.13190966j  0.08717977-0.26540956j -0.29014515+0.07636151j\n",
        "   0.11072694-0.07853348j  0.21979939-0.29443766j -0.19886992+0.08256978j\n",
        "   0.04152841-0.04741937j -0.26929695-0.07368238j -0.01636810+0.16559999j\n",
        "  -0.01619096-0.23543775j  0.11827838+0.06593394j  0.00494653+0.03075595j\n",
        "   0.03576003+0.00660848j -0.17493664-0.0279102j  -0.33833511+0.03407876j\n",
        "   0.21297682-0.0221363j  -0.19505611-0.1358775j ]\n",
        " [ 0.22994196-0.00121342j -0.14090154+0.08479463j -0.11252059-0.24406812j\n",
        "  -0.32406246-0.03259881j -0.02605837-0.15047717j -0.14730697-0.08254216j\n",
        "   0.16478798+0.07500227j  0.04735693+0.13063673j  0.09783777-0.09700135j\n",
        "  -0.20616077-0.0405019j  -0.05516732-0.06461649j  0.03887883-0.08740063j\n",
        "  -0.21307945-0.25214032j  0.12416878+0.18194914j  0.00817105+0.1711667j\n",
        "  -0.06235598+0.00948875j  0.02203456-0.08846326j  0.53729590+0.j\n",
        "   0.04586017-0.03329229j  0.18903006+0.17767693j]\n",
        " [ 0.16439302+0.0151723j  -0.14395718-0.01245427j -0.16211480-0.23010742j\n",
        "  -0.07849450+0.29761421j  0.02198855+0.13440377j  0.10757330-0.22763061j\n",
        "  -0.14088462+0.04178769j  0.11554564+0.10713141j  0.24151934+0.18678048j\n",
        "  -0.03930449+0.22914261j  0.01853840+0.22088376j -0.02277672+0.02425543j\n",
        "  -0.00275637-0.0267899j  -0.04658389+0.05931952j  0.34976446-0.00626293j\n",
        "  -0.00128126-0.02478735j -0.37616126+0.01977222j -0.19902563+0.28564722j\n",
        "  -0.16693366+0.159659j    0.05723102-0.05384956j]\n",
        " [ 0.10290927+0.00918781j -0.03467151+0.05882748j -0.21439684-0.20149254j\n",
        "  -0.28150298+0.15028433j  0.05999846+0.02497331j  0.01432404+0.09935275j\n",
        "  -0.01512233+0.28889797j -0.09479596-0.0188717j   0.06181385+0.09889129j\n",
        "   0.41517807+0.j          0.09736605-0.31238796j  0.12745061+0.17347731j\n",
        "   0.11743756+0.14645549j -0.06325598-0.24190485j -0.03158991+0.07841352j\n",
        "  -0.00866205+0.28934634j  0.07883757+0.05306152j -0.15222441-0.03808013j\n",
        "   0.17811423-0.19110682j  0.15201228+0.18933298j]\n",
        " [ 0.06543686+0.01396411j -0.05574867+0.02593342j -0.21304201-0.1975953j\n",
        "  -0.00964043+0.0024246j   0.22745241-0.04403692j -0.03252908-0.00724853j\n",
        "   0.07202297+0.10263565j -0.14378149-0.25895676j -0.18795612+0.01827359j\n",
        "  -0.20428975-0.01167445j  0.05940643-0.03224915j  0.15069318-0.23039775j\n",
        "   0.08366310+0.40476689j  0.25687845+0.06313077j  0.08712942+0.14834029j\n",
        "  -0.12439406-0.0817686j   0.37740266+0.j         -0.06918231+0.17275068j\n",
        "  -0.25428544+0.13550721j -0.05718879-0.18751761j]\n",
        " [ 0.03490619+0.00810573j  0.00248211+0.03539437j -0.14685256-0.18489465j\n",
        "  -0.16312319-0.0016812j  -0.16743282-0.01212127j  0.03102068+0.02052161j\n",
        "   0.02396311-0.09022645j  0.15068483-0.1498528j   0.09454830-0.15790869j\n",
        "  -0.38211918+0.12446357j -0.15266766+0.24041642j -0.09893437-0.01424199j\n",
        "   0.44169011+0.j         -0.16530281-0.0737136j  -0.34206761-0.22151192j\n",
        "   0.02367872+0.09876366j  0.14299347+0.25305281j -0.10905484-0.02156239j\n",
        "   0.09207399-0.00116819j  0.17921371+0.05911303j]\n",
        " [ 0.15771382+0.01328101j  0.19692657-0.0005157j   0.13487540+0.20279604j\n",
        "  -0.07240165+0.17519023j  0.08241198-0.20617775j -0.07753270+0.02066117j\n",
        "   0.29416306+0.28901173j  0.17972254+0.30397637j  0.12793225+0.14672934j\n",
        "  -0.09026401+0.10399835j  0.06084886+0.18281652j -0.16598184+0.14145132j\n",
        "  -0.11628676+0.27758236j  0.08308943-0.0589122j  -0.37452875+0.16590682j\n",
        "   0.03664098-0.14398719j  0.01516190-0.01912137j -0.08888842+0.16148697j\n",
        "   0.06385495-0.06086507j -0.09358719-0.0833024j ]\n",
        " [-0.27013501-0.0124204j  -0.31313234+0.03235304j -0.11792351-0.12463388j\n",
        "   0.34029274+0.j          0.00576371-0.05767537j  0.07862109-0.22178376j\n",
        "  -0.19487527+0.02776447j -0.15543729-0.02443563j  0.23602805-0.11629003j\n",
        "  -0.19944158+0.05271693j -0.14407905-0.0610367j   0.12343296+0.09808539j\n",
        "  -0.07023599+0.17442794j  0.14986641-0.21058592j -0.23075647+0.23444759j\n",
        "   0.18386852-0.03560643j -0.15774190-0.18156307j  0.05608281-0.00204387j\n",
        "   0.27898075-0.09768156j  0.01083406-0.07232881j]\n",
        " [ 0.32128474+0.00986357j  0.36022677+0.j         -0.02799054+0.1784638j\n",
        "   0.01386488-0.0454727j  -0.11662442+0.25400407j  0.01036749+0.0084669j\n",
        "  -0.16452627+0.13042756j -0.01322118-0.19713128j -0.12426733-0.15333199j\n",
        "  -0.10271337+0.00282191j -0.22909088-0.11366064j  0.20169304+0.2871011j\n",
        "   0.02623412+0.19310702j -0.06435355+0.04139501j -0.01890414-0.01966472j\n",
        "  -0.09762319-0.1552992j  -0.15977742-0.27643188j  0.10819893+0.13296865j\n",
        "   0.12115822+0.2546401j   0.18271875+0.10062346j]\n",
        " [-0.32505792+0.00425114j -0.32132296+0.12164636j -0.08393094+0.01834459j\n",
        "  -0.24360898-0.0918881j   0.05337548+0.14122106j  0.09971403+0.11815483j\n",
        "   0.47919616+0.j         -0.15440471-0.14742827j -0.04398243+0.02988307j\n",
        "   0.10602630+0.02011727j  0.06385334+0.00100608j -0.08659965+0.19380989j\n",
        "  -0.00251902+0.12743702j -0.18355895+0.15994584j -0.09550402-0.05822022j\n",
        "   0.07629621-0.30055734j -0.21504723-0.0548103j   0.02570829-0.04150071j\n",
        "  -0.01395460+0.26614997j  0.09244040+0.0138158j ]\n",
        " [ 0.27181914+0.00591499j  0.26079866-0.02053345j -0.12733628-0.10940279j\n",
        "  -0.05681520-0.26612333j  0.41785302+0.j          0.31832520-0.01088179j\n",
        "   0.05203454-0.29189312j  0.00546793-0.05003837j  0.03971439+0.01106677j\n",
        "   0.07757178+0.1196071j  -0.00181827+0.00996483j -0.01075503+0.04355107j\n",
        "  -0.04521125+0.03284872j  0.02851407-0.17567361j -0.04650217+0.02245767j\n",
        "   0.48873547+0.j         -0.09646931+0.1158103j   0.18992609-0.071661j\n",
        "  -0.09381114+0.00598684j -0.12524622-0.00151513j]\n",
        " [-0.21546472+0.00580302j -0.19573357+0.14391347j  0.01033099+0.13033594j\n",
        "  -0.19218981+0.14293366j  0.17072060-0.01232803j  0.03607136+0.04755858j\n",
        "  -0.32370426-0.0037501j   0.42865291+0.j         -0.29067361+0.04969964j\n",
        "   0.18395872-0.10305425j -0.10894224+0.18048716j  0.06186608+0.05941215j\n",
        "   0.23140971+0.09464279j  0.14390385-0.01933673j -0.15941284-0.02634615j\n",
        "   0.03161191+0.07531674j -0.08772692-0.15660105j  0.32084830+0.10790141j\n",
        "  -0.20803775-0.07588723j -0.05179446+0.0231467j ]\n",
        " [ 0.14493091+0.00734781j  0.09045604-0.00787366j -0.15530957-0.07629589j\n",
        "  -0.06486012-0.17911305j -0.12704976+0.05481969j -0.00422682-0.01817842j\n",
        "  -0.11623789-0.02790791j -0.04367965-0.18297854j  0.26289907+0.04058151j\n",
        "   0.19025520-0.35559353j  0.19307702+0.24180831j -0.32589221-0.09704504j\n",
        "   0.12132184+0.21074518j -0.02217744+0.26394378j -0.00388147+0.02317525j\n",
        "  -0.05827008-0.00701002j -0.09817635-0.24138811j  0.08836756-0.06564002j\n",
        "   0.16257327-0.25692026j -0.02226268-0.29028711j]\n",
        " [-0.09721737+0.00076882j -0.06243966+0.0986942j   0.20590189+0.14773722j\n",
        "  -0.23250218+0.00310509j  0.22359977-0.12797234j  0.07513187+0.09560583j\n",
        "  -0.09874590+0.04444049j  0.12902306-0.07387866j -0.00392358-0.10309615j\n",
        "  -0.32951449-0.01514378j  0.21809100+0.00786368j  0.03343411+0.12978118j\n",
        "  -0.07523857+0.05461099j -0.30424917-0.05527552j  0.41427655+0.j\n",
        "   0.14868096+0.15308403j  0.16393965-0.0720258j   0.02886608+0.09336488j\n",
        "   0.36736218+0.j          0.03472062-0.24368813j]\n",
        " [ 0.05551246+0.00608016j  0.01869999-0.03535714j -0.11450727-0.12697062j\n",
        "   0.15745117-0.03448015j  0.05938003-0.12842198j  0.02903386+0.06859122j\n",
        "   0.04426751-0.11856156j  0.02625728+0.08037712j -0.32564704+0.01939871j\n",
        "  -0.11115960-0.13148157j  0.43401702+0.j         -0.00116984-0.02846881j\n",
        "  -0.03299025-0.10531353j  0.04421693-0.33135251j -0.06165321-0.22373256j\n",
        "  -0.11646514-0.25548799j -0.19419783-0.13454811j -0.05549914+0.19008972j\n",
        "   0.01686530-0.21653385j  0.40897575+0.j        ]\n",
        " [-0.03457828-0.00140719j -0.03492824+0.05212838j  0.14915351+0.19042245j\n",
        "  -0.10417680-0.2135925j   0.01977671-0.00784504j  0.22785532+0.19711456j\n",
        "  -0.06375527+0.14722134j  0.16679696-0.08176065j  0.38454672+0.j\n",
        "   0.08113407+0.193555j   -0.08491385-0.20786139j  0.00955832-0.1047934j\n",
        "   0.15730167-0.17428048j  0.42289954+0.j          0.09524161-0.05687192j\n",
        "  -0.01821289-0.28893372j  0.08418840-0.00158163j -0.10029594+0.00920785j\n",
        "  -0.03726217-0.07768494j  0.30910780-0.15720824j]]\n"
       ]
      }
     ],
     "prompt_number": 9
    },
    {
     "cell_type": "code",
     "collapsed": false,
     "input": [
      "# C = np.zeros( (10,10) )\n",
      "# C[3][3] = 1\n",
      "# Q = np.zeros( (2,2) )\n",
      "# Q[0][0] = 1\n",
      "# state = kron(C,Q)\n",
      "# print np.trace(state)\n",
      "exp.plotDesign( state )\n",
      "# print exp.displacements.shape"
     ],
     "language": "python",
     "metadata": {},
     "outputs": [
      {
       "ename": "NameError",
       "evalue": "name 'state' is not defined",
       "output_type": "pyerr",
       "traceback": [
        "\u001b[0;31m---------------------------------------------------------------------------\u001b[0m\n\u001b[0;31mNameError\u001b[0m                                 Traceback (most recent call last)",
        "\u001b[0;32m<ipython-input-6-43e13fd56d5b>\u001b[0m in \u001b[0;36m<module>\u001b[0;34m()\u001b[0m\n\u001b[1;32m      5\u001b[0m \u001b[0;31m# state = kron(C,Q)\u001b[0m\u001b[0;34m\u001b[0m\u001b[0;34m\u001b[0m\u001b[0m\n\u001b[1;32m      6\u001b[0m \u001b[0;31m# print np.trace(state)\u001b[0m\u001b[0;34m\u001b[0m\u001b[0;34m\u001b[0m\u001b[0m\n\u001b[0;32m----> 7\u001b[0;31m \u001b[0mexp\u001b[0m\u001b[0;34m.\u001b[0m\u001b[0mplotDesign\u001b[0m\u001b[0;34m(\u001b[0m \u001b[0mstate\u001b[0m \u001b[0;34m)\u001b[0m\u001b[0;34m\u001b[0m\u001b[0m\n\u001b[0m\u001b[1;32m      8\u001b[0m \u001b[0;31m# print exp.displacements.shape\u001b[0m\u001b[0;34m\u001b[0m\u001b[0;34m\u001b[0m\u001b[0m\n",
        "\u001b[0;31mNameError\u001b[0m: name 'state' is not defined"
       ]
      }
     ],
     "prompt_number": 6
    },
    {
     "cell_type": "code",
     "collapsed": false,
     "input": [
      "np.trace(exp.density_matrix_inv)\n",
      "exp.plotDesign( exp.density_matrix_inv )"
     ],
     "language": "python",
     "metadata": {},
     "outputs": [
      {
       "ename": "ValueError",
       "evalue": "matrices are not aligned",
       "output_type": "pyerr",
       "traceback": [
        "\u001b[0;31m---------------------------------------------------------------------------\u001b[0m\n\u001b[0;31mValueError\u001b[0m                                Traceback (most recent call last)",
        "\u001b[0;32m<ipython-input-6-e2ae87978e50>\u001b[0m in \u001b[0;36m<module>\u001b[0;34m()\u001b[0m\n\u001b[1;32m      1\u001b[0m \u001b[0mnp\u001b[0m\u001b[0;34m.\u001b[0m\u001b[0mtrace\u001b[0m\u001b[0;34m(\u001b[0m\u001b[0mexp\u001b[0m\u001b[0;34m.\u001b[0m\u001b[0mdensity_matrix_inv\u001b[0m\u001b[0;34m)\u001b[0m\u001b[0;34m\u001b[0m\u001b[0m\n\u001b[0;32m----> 2\u001b[0;31m \u001b[0mexp\u001b[0m\u001b[0;34m.\u001b[0m\u001b[0mplotDesign\u001b[0m\u001b[0;34m(\u001b[0m \u001b[0mexp\u001b[0m\u001b[0;34m.\u001b[0m\u001b[0mdensity_matrix_inv\u001b[0m \u001b[0;34m)\u001b[0m\u001b[0;34m\u001b[0m\u001b[0m\n\u001b[0m",
        "\u001b[0;32m/Users/brianvlastakis/Documents/_Projects/reconstruction/reconstruction/datas.py\u001b[0m in \u001b[0;36mplotDesign\u001b[0;34m(self, state, title, show)\u001b[0m\n\u001b[1;32m    152\u001b[0m         \u001b[0mM_complex\u001b[0m \u001b[0;34m=\u001b[0m \u001b[0mself\u001b[0m\u001b[0;34m.\u001b[0m\u001b[0mdesign_matrix\u001b[0m\u001b[0;34m\u001b[0m\u001b[0m\n\u001b[1;32m    153\u001b[0m \u001b[0;34m\u001b[0m\u001b[0m\n\u001b[0;32m--> 154\u001b[0;31m         \u001b[0mR_complex\u001b[0m \u001b[0;34m=\u001b[0m \u001b[0mnp\u001b[0m\u001b[0;34m.\u001b[0m\u001b[0msplit\u001b[0m\u001b[0;34m(\u001b[0m \u001b[0mnp\u001b[0m\u001b[0;34m.\u001b[0m\u001b[0mdot\u001b[0m\u001b[0;34m(\u001b[0m\u001b[0mM_complex\u001b[0m\u001b[0;34m,\u001b[0m\u001b[0mD_complex\u001b[0m\u001b[0;34m)\u001b[0m\u001b[0;34m,\u001b[0m \u001b[0;36m2\u001b[0m\u001b[0;34m)\u001b[0m\u001b[0;34m\u001b[0m\u001b[0m\n\u001b[0m\u001b[1;32m    155\u001b[0m         \u001b[0mR\u001b[0m \u001b[0;34m=\u001b[0m \u001b[0mR_complex\u001b[0m\u001b[0;34m[\u001b[0m\u001b[0;36m0\u001b[0m\u001b[0;34m]\u001b[0m\u001b[0;34m.\u001b[0m\u001b[0mreshape\u001b[0m\u001b[0;34m(\u001b[0m\u001b[0mself\u001b[0m\u001b[0;34m.\u001b[0m\u001b[0mdisplacements\u001b[0m\u001b[0;34m.\u001b[0m\u001b[0mshape\u001b[0m\u001b[0;34m)\u001b[0m\u001b[0;34m\u001b[0m\u001b[0m\n\u001b[1;32m    156\u001b[0m \u001b[0;34m\u001b[0m\u001b[0m\n",
        "\u001b[0;31mValueError\u001b[0m: matrices are not aligned"
       ]
      }
     ],
     "prompt_number": 6
    },
    {
     "cell_type": "code",
     "collapsed": false,
     "input": [
      "rho = exp.density_matrix_inv\n",
      "qp.hinton(rho)\n",
      "np.trace(rho)"
     ],
     "language": "python",
     "metadata": {},
     "outputs": [
      {
       "metadata": {},
       "output_type": "pyout",
       "prompt_number": 7,
       "text": [
        "(0.90619450614475749+1.4560496363301423e-18j)"
       ]
      }
     ],
     "prompt_number": 7
    },
    {
     "cell_type": "code",
     "collapsed": false,
     "input": [
      "# rho = exp.density_matrix_inv\n",
      "fig, ax = plt.subplots( 1, 1, figsize = (6,4))\n",
      "ax = qp.hinton(rho, ax = ax)\n",
      "fig.savefig('test.svg')\n",
      "np.savetxt('test_real.txt', np.real(rho), delimiter = ',')\n",
      "np.trace(rho)"
     ],
     "language": "python",
     "metadata": {},
     "outputs": [
      {
       "ename": "NameError",
       "evalue": "name 'rho' is not defined",
       "output_type": "pyerr",
       "traceback": [
        "\u001b[0;31m---------------------------------------------------------------------------\u001b[0m\n\u001b[0;31mNameError\u001b[0m                                 Traceback (most recent call last)",
        "\u001b[0;32m<ipython-input-10-77ab3fbe71c4>\u001b[0m in \u001b[0;36m<module>\u001b[0;34m()\u001b[0m\n\u001b[1;32m      1\u001b[0m \u001b[0;31m# rho = exp.density_matrix_inv\u001b[0m\u001b[0;34m\u001b[0m\u001b[0;34m\u001b[0m\u001b[0m\n\u001b[1;32m      2\u001b[0m \u001b[0mfig\u001b[0m\u001b[0;34m,\u001b[0m \u001b[0max\u001b[0m \u001b[0;34m=\u001b[0m \u001b[0mplt\u001b[0m\u001b[0;34m.\u001b[0m\u001b[0msubplots\u001b[0m\u001b[0;34m(\u001b[0m \u001b[0;36m1\u001b[0m\u001b[0;34m,\u001b[0m \u001b[0;36m1\u001b[0m\u001b[0;34m,\u001b[0m \u001b[0mfigsize\u001b[0m \u001b[0;34m=\u001b[0m \u001b[0;34m(\u001b[0m\u001b[0;36m6\u001b[0m\u001b[0;34m,\u001b[0m\u001b[0;36m4\u001b[0m\u001b[0;34m)\u001b[0m\u001b[0;34m)\u001b[0m\u001b[0;34m\u001b[0m\u001b[0m\n\u001b[0;32m----> 3\u001b[0;31m \u001b[0max\u001b[0m \u001b[0;34m=\u001b[0m \u001b[0mqp\u001b[0m\u001b[0;34m.\u001b[0m\u001b[0mhinton\u001b[0m\u001b[0;34m(\u001b[0m\u001b[0mrho\u001b[0m\u001b[0;34m,\u001b[0m \u001b[0max\u001b[0m \u001b[0;34m=\u001b[0m \u001b[0max\u001b[0m\u001b[0;34m)\u001b[0m\u001b[0;34m\u001b[0m\u001b[0m\n\u001b[0m\u001b[1;32m      4\u001b[0m \u001b[0mfig\u001b[0m\u001b[0;34m.\u001b[0m\u001b[0msavefig\u001b[0m\u001b[0;34m(\u001b[0m\u001b[0;34m'test.svg'\u001b[0m\u001b[0;34m)\u001b[0m\u001b[0;34m\u001b[0m\u001b[0m\n\u001b[1;32m      5\u001b[0m \u001b[0mnp\u001b[0m\u001b[0;34m.\u001b[0m\u001b[0msavetxt\u001b[0m\u001b[0;34m(\u001b[0m\u001b[0;34m'test_real.txt'\u001b[0m\u001b[0;34m,\u001b[0m \u001b[0mnp\u001b[0m\u001b[0;34m.\u001b[0m\u001b[0mreal\u001b[0m\u001b[0;34m(\u001b[0m\u001b[0mrho\u001b[0m\u001b[0;34m)\u001b[0m\u001b[0;34m,\u001b[0m \u001b[0mdelimiter\u001b[0m \u001b[0;34m=\u001b[0m \u001b[0;34m','\u001b[0m\u001b[0;34m)\u001b[0m\u001b[0;34m\u001b[0m\u001b[0m\n",
        "\u001b[0;31mNameError\u001b[0m: name 'rho' is not defined"
       ]
      }
     ],
     "prompt_number": 10
    },
    {
     "cell_type": "code",
     "collapsed": false,
     "input": [
      "N = 12\n",
      "disp = np.sqrt(3)\n",
      "state1 = qp.tensor( qp.fock(2,0), qp.coherent(12, disp)  )\n",
      "state2 = qp.tensor( qp.fock(2,1), qp.coherent(12, -disp) )\n",
      "state = (state1 + state2).unit()\n",
      "\n",
      "state_dm = state*state.dag()\n",
      "\n",
      "qp.hinton(state_dm)\n",
      "\n",
      "stateA = qp.tensor( qp.fock(2,0), qp.fock(2, 0)  )\n",
      "stateB = qp.tensor( qp.fock(2,1), qp.fock(2, 1)  )\n",
      "stateL = (stateA + stateB).unit()\n",
      "\n",
      "state_dm = state*state.dag()"
     ],
     "language": "python",
     "metadata": {},
     "outputs": [],
     "prompt_number": 13
    },
    {
     "cell_type": "code",
     "collapsed": false,
     "input": [
      "rho_norm = rho / np.trace(rho)\n",
      "\n",
      "print np.real(np.trace(np.dot(state_dm.full(), rho)))\n",
      "print np.real(np.trace(np.dot(state_dm.full(), rho_norm)))\n",
      "\n",
      "qp.matrix_histogram(rho_norm)"
     ],
     "language": "python",
     "metadata": {},
     "outputs": [
      {
       "output_type": "stream",
       "stream": "stdout",
       "text": [
        "0.746783412022\n",
        "0.880135619414\n"
       ]
      },
      {
       "metadata": {},
       "output_type": "pyout",
       "prompt_number": 14,
       "text": [
        "(<matplotlib.figure.Figure at 0x128b58e50>,\n",
        " <mpl_toolkits.mplot3d.axes3d.Axes3D at 0x12a75d390>)"
       ]
      }
     ],
     "prompt_number": 14
    },
    {
     "cell_type": "code",
     "collapsed": false,
     "input": [
      "q_ops, c_ops = exp.makeOps()\n",
      "exp.reduceQubit()\n",
      "\n",
      "norm = exp.rho_reduced.tr()\n",
      "\n",
      "fig, ax = plt.subplots(1,1, figsize=(6,4) )\n",
      "ax = qp.hinton(exp.rho_reduced, ax = ax)\n",
      "fig.savefig('test2.svg')\n",
      "\n",
      "qp.matrix_histogram(exp.rho_reduced/norm)\n",
      "qp.matrix_histogram(stateL*stateL.dag())\n",
      "print (exp.rho_reduced/norm * stateL*stateL.dag() ).tr()\n",
      "print exp.rho_reduced/norm"
     ],
     "language": "python",
     "metadata": {},
     "outputs": [
      {
       "output_type": "stream",
       "stream": "stdout",
       "text": [
        "(0.884051640557+0j)\n",
        "Quantum object: dims = [[2, 2], [2, 2]], shape = [4, 4], type = oper, isherm = True\n",
        "Qobj data =\n",
        "[[ 0.52269109 +0.00000000e+00j  0.00485882 -1.45590921e-02j\n",
        "  -0.00254836 +2.72690833e-03j  0.39386380 -4.46398698e-03j]\n",
        " [ 0.00485882 +1.45590921e-02j  0.01383908 +0.00000000e+00j\n",
        "   0.00076908 +5.91500382e-05j -0.00064794 +2.82744956e-03j]\n",
        " [-0.00254836 -2.72690833e-03j  0.00076908 -5.91500382e-05j\n",
        "   0.00578524 +0.00000000e+00j -0.00627064 +1.52542237e-02j]\n",
        " [ 0.39386380 +4.46398698e-03j -0.00064794 -2.82744956e-03j\n",
        "  -0.00627064 -1.52542237e-02j  0.45768459 +0.00000000e+00j]]\n"
       ]
      }
     ],
     "prompt_number": 15
    },
    {
     "cell_type": "code",
     "collapsed": false,
     "input": [
      "print np.real(exp.rho_reduced.full())\n"
     ],
     "language": "python",
     "metadata": {},
     "outputs": [
      {
       "output_type": "stream",
       "stream": "stdout",
       "text": [
        "[[ 0.44349647  0.00412264 -0.00216225  0.33418821]\n",
        " [ 0.00412264  0.01174228  0.00065255 -0.00054977]\n",
        " [-0.00216225  0.00065255  0.0049087  -0.00532056]\n",
        " [ 0.33418821 -0.00054977 -0.00532056  0.38833931]]\n"
       ]
      }
     ],
     "prompt_number": 39
    },
    {
     "cell_type": "code",
     "collapsed": false,
     "input": [
      "print 0.4434 + 0.38834\n",
      "print 0.3342*2\n",
      "\n",
      "print np.sqrt(2) * (0.83174 + 0.6684)"
     ],
     "language": "python",
     "metadata": {},
     "outputs": [
      {
       "output_type": "stream",
       "stream": "stdout",
       "text": [
        "0.83174\n",
        "0.6684\n",
        "2.12151833346\n"
       ]
      }
     ],
     "prompt_number": 41
    },
    {
     "cell_type": "code",
     "collapsed": false,
     "input": [
      "qp.matrix_histogram(exp.rho_reduced.full(), limits = [-0.5, 0.5])"
     ],
     "language": "python",
     "metadata": {},
     "outputs": [
      {
       "metadata": {},
       "output_type": "pyout",
       "prompt_number": 43,
       "text": [
        "(<matplotlib.figure.Figure at 0x10fd72950>,\n",
        " <mpl_toolkits.mplot3d.axes3d.Axes3D at 0x10fd72f90>)"
       ]
      }
     ],
     "prompt_number": 43
    },
    {
     "cell_type": "code",
     "collapsed": false,
     "input": [],
     "language": "python",
     "metadata": {},
     "outputs": [],
     "prompt_number": 11
    },
    {
     "cell_type": "code",
     "collapsed": false,
     "input": [
      "reg = exp.regression(method = 'minimize')\n"
     ],
     "language": "python",
     "metadata": {},
     "outputs": []
    },
    {
     "cell_type": "code",
     "collapsed": false,
     "input": [],
     "language": "python",
     "metadata": {},
     "outputs": []
    }
   ],
   "metadata": {}
  }
 ]
}